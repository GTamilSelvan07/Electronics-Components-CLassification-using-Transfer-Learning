{
 "cells": [
  {
   "cell_type": "markdown",
   "metadata": {},
   "source": [
    "\n",
    "import os,sys\n",
    "import h5py\n",
    "import pandas as pd\n",
    "import numpy as np\n",
    "from keras.preprocessing.image import ImageDataGenerator,array_to_img, img_to_array, load_img\n",
    "from keras.models import Sequential\n",
    "from keras.layers import Dropout, Flatten, Dense\n",
    "from keras import applications\n",
    "import matplotlib.pyplot as plt\n",
    "import seaborn as sns\n",
    "import math\n",
    "%matplotlib inline\n",
    "from tqdm import tqdm\n",
    "from PIL import Image"
   ]
  },
  {
   "cell_type": "code",
   "execution_count": 7,
   "metadata": {},
   "outputs": [
    {
     "name": "stdout",
     "output_type": "stream",
     "text": [
      "8 labels\n",
      "microprocessor            457\n",
      "LED                       410\n",
      "Electrolytic-capacitor    403\n",
      "semiconductor-diode       393\n",
      "PNP-transistor            307\n",
      "cartridge-fuse            225\n",
      "induction-coil            151\n",
      "semi-conductor             24\n",
      "Name: label, dtype: int64\n"
     ]
    }
   ],
   "source": [
    "\n",
    "data_root=r'C:\\Users\\Lenovo\\Desktop\\Dataset ecs'\n",
    "train=pd.read_csv(data_root+'/trainx.csv')\n",
    "test=pd.read_csv(data_root+'/testx.csv')\n",
    "print(train.label.nunique(),'labels')\n",
    "label_counts=train.label.value_counts()\n",
    "print(label_counts)"
   ]
  },
  {
   "cell_type": "code",
   "execution_count": 8,
   "metadata": {},
   "outputs": [
    {
     "data": {
      "image/png": "[encoded data removed]",
      "text/plain": [
       "<Figure size 864x432 with 1 Axes>"
      ]
     },
     "metadata": {
      "needs_background": "light"
     },
     "output_type": "display_data"
    }
   ],
   "source": [
    "\n",
    "plt.figure(figsize = (12,6))\n",
    "sns.barplot(label_counts.index, label_counts.values, alpha = 0.9)\n",
    "plt.xticks(rotation = 'vertical')\n",
    "plt.xlabel('Image Labels', fontsize =12)\n",
    "plt.ylabel('Counts', fontsize = 12)\n",
    "plt.show()\n",
    "    "
   ]
  },
  {
   "cell_type": "code",
   "execution_count": 44,
   "metadata": {},
   "outputs": [
    {
     "name": "stderr",
     "output_type": "stream",
     "text": [
      "100%|██████████| 2370/2370 [00:11<00:00, 210.90it/s]\n"
     ]
    }
   ],
   "source": [
    "\n",
    "for img in tqdm(train.values):\n",
    "    filename=img[0]\n",
    "    label=img[1]\n",
    "    src=os.path.join(data_root,'train',filename+'.jpg')\n",
    "    label_dir=os.path.join(data_root,'train1',label)\n",
    "    dest=os.path.join(label_dir,filename+'.jpg')\n",
    "    im=Image.open(src)\n",
    "    rgb_im=im.convert('RGB')\n",
    "    if not os.path.exists(label_dir):\n",
    "        os.makedirs(label_dir)\n",
    "    rgb_im.save(dest)  \n",
    "    if not os.path.exists(os.path.join(data_root,'train2',label)):\n",
    "        os.makedirs(os.path.join(data_root,'train2',label))\n",
    "    rgb_im.save(os.path.join(data_root,'train2',label,filename+'.jpg'))"
   ]
  },
  {
   "cell_type": "code",
   "execution_count": 10,
   "metadata": {},
   "outputs": [
    {
     "name": "stdout",
     "output_type": "stream",
     "text": [
      "457 914\n",
      "410 820\n",
      "403 806\n",
      "393 1179\n",
      "307 921\n",
      "225 1125\n",
      "151 1057\n",
      "24 1200\n"
     ]
    }
   ],
   "source": [
    "\n",
    "datagen = ImageDataGenerator(\n",
    "        rotation_range=40,\n",
    "        width_shift_range=0.2,\n",
    "        height_shift_range=0.2,\n",
    "        shear_range=0.2,\n",
    "        zoom_range=0.2,\n",
    "        horizontal_flip=True,\n",
    "        fill_mode='nearest')\n",
    "\n",
    "class_size=1200\n",
    "\n",
    "src_train_dir=os.path.join(data_root,'train1')\n",
    "dest_train_dir=os.path.join(data_root,'train2')\n",
    "it=0\n",
    "for count in label_counts.values:\n",
    "    #nb of generations per image for this class label in order to make it size ~= class_size\n",
    "    ratio=math.floor(class_size/count)-1\n",
    "    print(count,count*(ratio+1))\n",
    "    dest_lab_dir=os.path.join(dest_train_dir,label_counts.index[it])\n",
    "    src_lab_dir=os.path.join(src_train_dir,label_counts.index[it])\n",
    "    if not os.path.exists(dest_lab_dir):\n",
    "        os.makedirs(dest_lab_dir)\n",
    "    for file in os.listdir(src_lab_dir):\n",
    "        img=load_img(os.path.join(src_lab_dir,file))\n",
    "        img.save(os.path.join(dest_lab_dir,file))\n",
    "        x=img_to_array(img) \n",
    "        x=x.reshape((1,) + x.shape)\n",
    "        i=0\n",
    "        for batch in datagen.flow(x, batch_size=1,save_to_dir=dest_lab_dir, save_format='jpg'):\n",
    "            i+=1\n",
    "            if i > ratio:\n",
    "                break \n",
    "    it=it+1"
   ]
  },
  {
   "cell_type": "code",
   "execution_count": 11,
   "metadata": {},
   "outputs": [
    {
     "name": "stdout",
     "output_type": "stream",
     "text": [
      " 0\n",
      "cartridge-fuse 1305\n",
      "Electrolytic-capacitor 1170\n",
      "induction-coil 1144\n",
      "LED 1195\n",
      "microprocessor 1337\n",
      "PNP-transistor 1195\n",
      "semi-conductor 1165\n",
      "semiconductor-diode 1510\n"
     ]
    }
   ],
   "source": [
    "\n",
    "for dirpath, dirnames, filenames in os.walk(dest_train_dir):\n",
    "    i=0\n",
    "    label=''\n",
    "    for filename in [f for f in filenames if f.endswith(\".jpg\")]:\n",
    "        label=os.path.split(dirpath)[1]\n",
    "        i+=1\n",
    "    print(label,i)"
   ]
  },
  {
   "cell_type": "code",
   "execution_count": null,
   "metadata": {},
   "outputs": [],
   "source": [
    "\n"
   ]
  },
  {
   "cell_type": "code",
   "execution_count": null,
   "metadata": {},
   "outputs": [],
   "source": []
  },
  {
   "cell_type": "code",
   "execution_count": null,
   "metadata": {},
   "outputs": [],
   "source": []
  },
  {
   "cell_type": "code",
   "execution_count": null,
   "metadata": {},
   "outputs": [],
   "source": []
  }
 ],
 "metadata": {
  "kernelspec": {
   "display_name": "Python 3",
   "language": "python",
   "name": "python3"
  },
  "language_info": {
   "codemirror_mode": {
    "name": "ipython",
    "version": 3
   },
   "file_extension": ".py",
   "mimetype": "text/x-python",
   "name": "python",
   "nbconvert_exporter": "python",
   "pygments_lexer": "ipython3",
   "version": "3.6.7"
  }
 },
 "nbformat": 4,
 "nbformat_minor": 2
}
